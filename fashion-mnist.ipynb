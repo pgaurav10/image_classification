{
 "cells": [
  {
   "cell_type": "code",
   "execution_count": 21,
   "metadata": {},
   "outputs": [],
   "source": [
    "# SHASHANK KATHAVATE\n",
    "# 2021530332\n",
    "# ARTIFICIAL INTELLIGENCE - CS6364"
   ]
  },
  {
   "cell_type": "markdown",
   "metadata": {},
   "source": [
    "The code can be run on GPU or CPU, however the cpu execution take longer. If there is no GPU available please use the same coed on google colab with the GPU enabled. The code requires the files \"fashion-mnist_train.csv\" and \"fashion-mnist_test.csv\" in the same directory to run. The outputs will be displayed on the jupyter notebook."
   ]
  },
  {
   "cell_type": "code",
   "execution_count": 22,
   "metadata": {},
   "outputs": [],
   "source": [
    "# importing the libraries\n",
    "import pandas as pd\n",
    "import numpy as np\n",
    "import matplotlib.pyplot as plt\n",
    "%matplotlib inline\n",
    "from sklearn.model_selection import train_test_split\n",
    "from sklearn.metrics import accuracy_score\n",
    "import torch\n",
    "from torch.autograd import Variable\n",
    "from torch.nn import Linear, ReLU, CrossEntropyLoss, Sequential, Conv2d, MaxPool2d, Module, BatchNorm2d\n",
    "from torch.optim import Adam\n"
   ]
  },
  {
   "cell_type": "code",
   "execution_count": 23,
   "metadata": {},
   "outputs": [
    {
     "name": "stdout",
     "output_type": "stream",
     "text": [
      "(60000, 785) (10000, 785)\n"
     ]
    }
   ],
   "source": [
    "train = pd.read_csv('fashion-mnist_train.csv')\n",
    "test = pd.read_csv('fashion-mnist_test.csv')\n",
    "print(train.shape,test.shape)\n",
    "\n",
    "                                            "
   ]
  },
  {
   "cell_type": "code",
   "execution_count": 24,
   "metadata": {},
   "outputs": [],
   "source": [
    "class Dataset(torch.utils.data.Dataset):\n",
    "    \n",
    "    def __init__(self, data):\n",
    "        self.fMNIST = list(data.values)\n",
    "        \n",
    "        label = []\n",
    "        image = []\n",
    "        \n",
    "        for i in self.fMNIST:\n",
    "            label.append(i[0])\n",
    "            image.append(i[1:])\n",
    "        self.labels = np.asarray(label)\n",
    "        self.images = np.asarray(image).reshape(-1, 28, 28).astype('float32')\n",
    "\n",
    "    def __getitem__(self, index):\n",
    "        label = self.labels[index]\n",
    "        image = self.images[index]\n",
    "\n",
    "        return image, label\n",
    "\n",
    "    def __len__(self):\n",
    "        return len(self.images)"
   ]
  },
  {
   "cell_type": "code",
   "execution_count": 25,
   "metadata": {},
   "outputs": [
    {
     "name": "stdout",
     "output_type": "stream",
     "text": [
      "(60000, 28, 28) (60000,)\n"
     ]
    }
   ],
   "source": [
    "trainSet = Dataset(train)\n",
    "\n",
    "xTrainSet = trainSet.images\n",
    "yTrainSet = trainSet.labels\n",
    "\n",
    "print(xTrainSet.shape,yTrainSet.shape)\n"
   ]
  },
  {
   "cell_type": "code",
   "execution_count": 26,
   "metadata": {},
   "outputs": [
    {
     "data": {
      "text/plain": [
       "(<AxesSubplot:>, <matplotlib.image.AxesImage at 0x29f9f5780>)"
      ]
     },
     "execution_count": 26,
     "metadata": {},
     "output_type": "execute_result"
    },
    {
     "data": {
      "image/png": "[encoded data removed]",
      "text/plain": [
       "<Figure size 576x576 with 5 Axes>"
      ]
     },
     "metadata": {
      "needs_background": "light"
     },
     "output_type": "display_data"
    }
   ],
   "source": [
    "plt.figure(figsize=(8,8))\n",
    "plt.subplot(231), plt.imshow(xTrainSet[30])\n",
    "plt.subplot(232), plt.imshow(xTrainSet[60])\n",
    "plt.subplot(233), plt.imshow(xTrainSet[90])\n",
    "plt.subplot(234), plt.imshow(xTrainSet[120])\n",
    "plt.subplot(235), plt.imshow(xTrainSet[150])"
   ]
  },
  {
   "cell_type": "code",
   "execution_count": 27,
   "metadata": {},
   "outputs": [
    {
     "name": "stdout",
     "output_type": "stream",
     "text": [
      "torch.Size([54000, 1, 28, 28]) torch.Size([54000]) torch.Size([6000, 1, 28, 28]) torch.Size([6000])\n"
     ]
    }
   ],
   "source": [
    "xTrain,xValidation,yTrain,yValidation = train_test_split(xTrainSet,yTrainSet,test_size=0.1)\n",
    "\n",
    "xTrain = xTrain.reshape(54000,1,28,28)\n",
    "xValidation = xValidation.reshape(6000,1,28,28)\n",
    "xValidation = torch.from_numpy(xValidation)\n",
    "xTrain = torch.from_numpy(xTrain)\n",
    "yTrain = yTrain.astype(int)\n",
    "yValidation = yValidation.astype(int)\n",
    "yTrain = torch.from_numpy(yTrain)\n",
    "yValidation = torch.from_numpy(yValidation)\n",
    "print(xTrain.shape,yTrain.shape,xValidation.shape,yValidation.shape)"
   ]
  },
  {
   "cell_type": "code",
   "execution_count": 28,
   "metadata": {},
   "outputs": [],
   "source": [
    "class CustomNet(Module):\n",
    "\n",
    "    def __init__(self):\n",
    "        super().__init__()\n",
    "        self.layers = Sequential(\n",
    "            Conv2d(1,4,kernel_size=(3,3), stride=(1,1), padding=(1,1)),\n",
    "            BatchNorm2d(4,eps=1e-05),\n",
    "            ReLU(inplace=True),\n",
    "            MaxPool2d(kernel_size=2,stride=2),\n",
    "\n",
    "            Conv2d(4,8,kernel_size=(3,3),stride=(1,1),padding=(1,1)),\n",
    "            BatchNorm2d(8,eps=1e-05),\n",
    "            ReLU(inplace=True),\n",
    "            MaxPool2d(kernel_size=2,stride=2),\n",
    "\n",
    "            Conv2d(8,4,kernel_size=(3,3),stride=(1,1),padding=(1,1)),\n",
    "            BatchNorm2d(4,eps=1e-05),\n",
    "            ReLU(inplace=True),\n",
    "            MaxPool2d(kernel_size=2,stride=2)\n",
    "        )\n",
    "\n",
    "        self.linearLayers = Sequential(\n",
    "            Linear(36,10)\n",
    "        )\n",
    "\n",
    "    def forward(self,x):\n",
    "        x = self.layers(x)\n",
    "        x = x.view(x.size(0),-1)\n",
    "        x = self.linearLayers(x)\n",
    "        return x\n"
   ]
  },
  {
   "cell_type": "code",
   "execution_count": 29,
   "metadata": {},
   "outputs": [
    {
     "name": "stdout",
     "output_type": "stream",
     "text": [
      "Net(\n",
      "  (layers): Sequential(\n",
      "    (0): Conv2d(1, 4, kernel_size=(3, 3), stride=(1, 1), padding=(1, 1))\n",
      "    (1): BatchNorm2d(4, eps=1e-05, momentum=0.1, affine=True, track_running_stats=True)\n",
      "    (2): ReLU(inplace=True)\n",
      "    (3): MaxPool2d(kernel_size=2, stride=2, padding=0, dilation=1, ceil_mode=False)\n",
      "    (4): Conv2d(4, 8, kernel_size=(3, 3), stride=(1, 1), padding=(1, 1))\n",
      "    (5): BatchNorm2d(8, eps=1e-05, momentum=0.1, affine=True, track_running_stats=True)\n",
      "    (6): ReLU(inplace=True)\n",
      "    (7): MaxPool2d(kernel_size=2, stride=2, padding=0, dilation=1, ceil_mode=False)\n",
      "    (8): Conv2d(8, 4, kernel_size=(3, 3), stride=(1, 1), padding=(1, 1))\n",
      "    (9): BatchNorm2d(4, eps=1e-05, momentum=0.1, affine=True, track_running_stats=True)\n",
      "    (10): ReLU(inplace=True)\n",
      "    (11): MaxPool2d(kernel_size=2, stride=2, padding=0, dilation=1, ceil_mode=False)\n",
      "  )\n",
      "  (linearLayers): Sequential(\n",
      "    (0): Linear(in_features=36, out_features=10, bias=True)\n",
      "  )\n",
      ")\n"
     ]
    }
   ],
   "source": [
    "model = CustomNet()\n",
    "optimizer = torch.optim.Adam(model.parameters(),lr=0.05)\n",
    "lossFunc = CrossEntropyLoss()\n",
    "if torch.cuda.is_available():\n",
    "    model = model.cuda()\n",
    "    lossFunc = lossFunc.cuda()\n",
    "    \n",
    "print(model)"
   ]
  },
  {
   "cell_type": "markdown",
   "metadata": {},
   "source": [
    "The Above model is a custom model created based on our intuition."
   ]
  },
  {
   "cell_type": "code",
   "execution_count": 30,
   "metadata": {},
   "outputs": [],
   "source": [
    "trainLossList = []\n",
    "validationLossList = []\n",
    "\n",
    "def trainData(epoch):\n",
    "    model.train()\n",
    "    xTrainData,yTrainData = Variable(xTrain), Variable(yTrain)\n",
    "    xValidationData, yValidationData = Variable(xValidation),Variable(yValidation)\n",
    "\n",
    "    if torch.cuda.is_available():\n",
    "        xTrainData = xTrainData.cuda()\n",
    "        yTrainData = yTrainData.cuda()\n",
    "        xValidationData = xValidationData.cuda()\n",
    "        yValidationData =yValidationData.cuda()\n",
    "    else:\n",
    "        print(\"NO GPU\")\n",
    "    optimizer.zero_grad()\n",
    "\n",
    "    yPredTrain = model(xTrainData)\n",
    "    ypredValidation = model(xValidationData)\n",
    "\n",
    "    trainLoss = lossFunc(yPredTrain,yTrainData)\n",
    "    validationLoss = lossFunc(ypredValidation,yValidationData)\n",
    "    trainLossList.append(trainLoss.cpu().detach().numpy())\n",
    "    validationLossList.append(validationLoss.cpu().detach().numpy())\n",
    "\n",
    "    trainLoss.backward()\n",
    "    optimizer.step()\n",
    "    trainLossSum = trainLoss.item()\n",
    "    if epoch%2 == 0:\n",
    "        print('Epoch: ',epoch+1,'\\t','loss: ',validationLoss)\n",
    "\n"
   ]
  },
  {
   "cell_type": "code",
   "execution_count": 31,
   "metadata": {},
   "outputs": [
    {
     "name": "stdout",
     "output_type": "stream",
     "text": [
      "NO GPU\n",
      "Epoch:  1 \t loss:  tensor(2.5017, grad_fn=<NllLossBackward0>)\n",
      "NO GPU\n",
      "NO GPU\n",
      "Epoch:  3 \t loss:  tensor(2.0801, grad_fn=<NllLossBackward0>)\n",
      "NO GPU\n",
      "NO GPU\n",
      "Epoch:  5 \t loss:  tensor(1.5516, grad_fn=<NllLossBackward0>)\n",
      "NO GPU\n",
      "NO GPU\n",
      "Epoch:  7 \t loss:  tensor(1.2038, grad_fn=<NllLossBackward0>)\n",
      "NO GPU\n",
      "NO GPU\n",
      "Epoch:  9 \t loss:  tensor(0.9967, grad_fn=<NllLossBackward0>)\n",
      "NO GPU\n"
     ]
    }
   ],
   "source": [
    "totalEpochs = 10\n",
    "\n",
    "for epoch in range(totalEpochs):\n",
    "    trainData(epoch)\n"
   ]
  },
  {
   "cell_type": "code",
   "execution_count": 32,
   "metadata": {},
   "outputs": [
    {
     "data": {
      "text/plain": [
       "<function matplotlib.pyplot.show(close=None, block=None)>"
      ]
     },
     "execution_count": 32,
     "metadata": {},
     "output_type": "execute_result"
    },
    {
     "data": {
      "image/png": "[encoded data removed]",
      "text/plain": [
       "<Figure size 432x288 with 1 Axes>"
      ]
     },
     "metadata": {
      "needs_background": "light"
     },
     "output_type": "display_data"
    }
   ],
   "source": [
    "#plotting the losses\n",
    "plt.plot(trainLossList,label = 'Training')\n",
    "plt.plot(validationLossList,label='Validation')\n",
    "plt.show"
   ]
  },
  {
   "cell_type": "code",
   "execution_count": 33,
   "metadata": {},
   "outputs": [
    {
     "name": "stdout",
     "output_type": "stream",
     "text": [
      "Train Accuracy=  0.677\n",
      "Validation Accuracy=  0.6831666666666667\n"
     ]
    }
   ],
   "source": [
    "#Accuracy\n",
    "def calcAccuracy(x,y):\n",
    "    if torch.cuda.is_available():\n",
    "        with torch.no_grad():\n",
    "            yTrainPred = model(x.cuda())\n",
    "            softmax = torch.exp(yTrainPred).cpu()\n",
    "    \n",
    "    else:\n",
    "        yTrainPred = model(x)\n",
    "        softmax = torch.exp(yTrainPred.detach())\n",
    "        \n",
    "    \n",
    "    probability = list(softmax.numpy())\n",
    "    predictions = np.argmax(probability, axis=1)\n",
    "    # accuracy on training set\n",
    "    return accuracy_score(y, predictions)\n",
    "\n",
    "\n",
    "trainAccuracy = calcAccuracy(xTrain,yTrain)\n",
    "validationAccuracy = calcAccuracy(xValidation,yValidation)\n",
    "\n",
    "print(\"Train Accuracy= \",trainAccuracy)\n",
    "print(\"Validation Accuracy= \",validationAccuracy)"
   ]
  },
  {
   "cell_type": "code",
   "execution_count": 41,
   "metadata": {},
   "outputs": [
    {
     "name": "stdout",
     "output_type": "stream",
     "text": [
      "torch.Size([10000, 1, 28, 28])\n"
     ]
    }
   ],
   "source": [
    "testSet = Dataset(test)\n",
    "xTestSe = testSet.images\n",
    "yTestSet = testSet.labels\n",
    "xTestSet = xTestSe.reshape(10000,1,28,28)\n",
    "xTestSet = torch.from_numpy(xTestSet)\n",
    "print(xTestSet.shape)"
   ]
  },
  {
   "cell_type": "code",
   "execution_count": 42,
   "metadata": {},
   "outputs": [
    {
     "name": "stdout",
     "output_type": "stream",
     "text": [
      "['T-Shirt/top', 'Trouser', 'Shirt', 'Bag', 'Dress']\n"
     ]
    },
    {
     "data": {
      "text/plain": [
       "(<AxesSubplot:>, <matplotlib.image.AxesImage at 0x284c23700>)"
      ]
     },
     "execution_count": 42,
     "metadata": {},
     "output_type": "execute_result"
    },
    {
     "data": {
      "image/png": "[encoded data removed]",
      "text/plain": [
       "<Figure size 576x576 with 5 Axes>"
      ]
     },
     "metadata": {
      "needs_background": "light"
     },
     "output_type": "display_data"
    }
   ],
   "source": [
    "#Test set predicitons\n",
    "\n",
    "if torch.cuda.is_available():\n",
    "    with torch.no_grad():\n",
    "        yTestPred = model(xTestSet.cuda())\n",
    "        softmax = torch.exp(yTestPred).cpu()\n",
    "else:\n",
    "    yTestPred = model(xTestSet)\n",
    "    softmax = torch.exp(yTestPred.detach())\n",
    "    \n",
    "probability = list(softmax.numpy())\n",
    "predictions = np.argmax(probability, axis=1)\n",
    "labelDict = {\n",
    "    0:\"T-Shirt/top\",\n",
    "    1:\"Trouser\",\n",
    "    2:\"Pullover\",\n",
    "    3:\"Dress\",\n",
    "    4:\"Coat\",\n",
    "    5:\"Sandal\",\n",
    "    6:\"Shirt\",\n",
    "    7:\"Sneaker\",\n",
    "    8:\"Bag\",\n",
    "    9:\"Ankle Boot\"\n",
    "}\n",
    "#Results for the 10000 test data images. The above dictionary represents the classification label for the data.\n",
    "predictions = [labelDict[i] for i in predictions]\n",
    "#First 5 Predictions\n",
    "print(predictions[:5])\n",
    "plt.figure(figsize=(8,8))\n",
    "plt.subplot(231), plt.imshow(xTestSe[0])\n",
    "plt.subplot(232), plt.imshow(xTestSe[1])\n",
    "plt.subplot(233), plt.imshow(xTestSe[2])\n",
    "plt.subplot(234), plt.imshow(xTestSe[3])\n",
    "plt.subplot(235), plt.imshow(xTestSe[4])"
   ]
  },
  {
   "cell_type": "markdown",
   "metadata": {},
   "source": [
    "# The Above show the first 5 predictions of the test data set. It may be seen that they have an accuracy of almost 80%. With the prediction on image 4 being incorrect."
   ]
  }
 ],
 "metadata": {
  "kernelspec": {
   "display_name": "Python 3.10.0 64-bit",
   "language": "python",
   "name": "python3"
  },
  "language_info": {
   "codemirror_mode": {
    "name": "ipython",
    "version": 3
   },
   "file_extension": ".py",
   "mimetype": "text/x-python",
   "name": "python",
   "nbconvert_exporter": "python",
   "pygments_lexer": "ipython3",
   "version": "3.10.0"
  },
  "orig_nbformat": 4,
  "vscode": {
   "interpreter": {
    "hash": "aee8b7b246df8f9039afb4144a1f6fd8d2ca17a180786b69acc140d282b71a49"
   }
  }
 },
 "nbformat": 4,
 "nbformat_minor": 2
}
